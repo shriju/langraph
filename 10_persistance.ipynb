{
 "cells": [
  {
   "cell_type": "code",
   "execution_count": 26,
   "id": "77613a47",
   "metadata": {},
   "outputs": [],
   "source": [
    "from langgraph.graph import StateGraph, START, END\n",
    "from typing import TypedDict\n",
    "from langchain_openai import ChatOpenAI\n",
    "from dotenv import load_dotenv\n",
    "from langgraph.checkpoint.memory import InMemorySaver"
   ]
  },
  {
   "cell_type": "code",
   "execution_count": 27,
   "id": "368ce8da",
   "metadata": {},
   "outputs": [],
   "source": [
    "load_dotenv()\n",
    "llm=ChatOpenAI()"
   ]
  },
  {
   "cell_type": "code",
   "execution_count": 28,
   "id": "05346c8f",
   "metadata": {},
   "outputs": [],
   "source": [
    "class JokeState(TypedDict):\n",
    "    topic: str\n",
    "    joke: str\n",
    "    explanation: str\n",
    "    "
   ]
  },
  {
   "cell_type": "code",
   "execution_count": 29,
   "id": "500bdee0",
   "metadata": {},
   "outputs": [],
   "source": [
    "def generate_joke(state: JokeState):\n",
    "    prompt = f'generate a joke on the topic {state[\"topic\"]}'\n",
    "    response = llm.invoke(prompt).content\n",
    "\n",
    "    return {'joke': response}"
   ]
  },
  {
   "cell_type": "code",
   "execution_count": 30,
   "id": "0755524b",
   "metadata": {},
   "outputs": [],
   "source": [
    "def generate_explanation(state: JokeState):\n",
    "    prompt = f'write an explanation for the joke - {state[\"joke\"]}'\n",
    "    response = llm.invoke(prompt).content\n",
    "\n",
    "    return {'explanation': response}"
   ]
  },
  {
   "cell_type": "code",
   "execution_count": 31,
   "id": "ba96dc08",
   "metadata": {},
   "outputs": [],
   "source": [
    "graph = StateGraph(JokeState)\n",
    "\n",
    "graph.add_node('generate_joke', generate_joke)\n",
    "graph.add_node('generate_explanation', generate_explanation)\n",
    "\n",
    "graph.add_edge(START, 'generate_joke')\n",
    "graph.add_edge('generate_joke', 'generate_explanation')\n",
    "graph.add_edge('generate_explanation', END)\n",
    "\n",
    "checkpointer = InMemorySaver()\n",
    "\n",
    "workflow = graph.compile(checkpointer = checkpointer)\n",
    "\n"
   ]
  },
  {
   "cell_type": "code",
   "execution_count": 32,
   "id": "faba0338",
   "metadata": {},
   "outputs": [
    {
     "data": {
      "text/plain": [
       "{'topic': 'pizza',\n",
       " 'joke': \"Why did the pizza go to the therapist? Because it had too many toppings and couldn't handle the pressure!\",\n",
       " 'explanation': 'This joke plays on the idea that a pizza going to therapy is a humorous and unlikely scenario. The punchline, \"Because it had too many toppings and couldn\\'t handle the pressure,\" is a play on words. It suggests that the pizza is feeling overwhelmed or stressed out by the weight of all the toppings on it, which is why it needs therapy. The joke combines the silliness of the idea of a pizza seeking therapy with a clever pun on the concept of \"toppings\" and \"pressure.\"'}"
      ]
     },
     "execution_count": 32,
     "metadata": {},
     "output_type": "execute_result"
    }
   ],
   "source": [
    "config1 = {\"configurable\": {\"thread_id\" : \"1\"}}\n",
    "workflow.invoke({'topic': 'pizza'}, config = config1)"
   ]
  },
  {
   "cell_type": "code",
   "execution_count": 33,
   "id": "c502717a",
   "metadata": {},
   "outputs": [
    {
     "data": {
      "text/plain": [
       "[StateSnapshot(values={'topic': 'pizza', 'joke': \"Why did the pizza go to the therapist? Because it had too many toppings and couldn't handle the pressure!\", 'explanation': 'This joke plays on the idea that a pizza going to therapy is a humorous and unlikely scenario. The punchline, \"Because it had too many toppings and couldn\\'t handle the pressure,\" is a play on words. It suggests that the pizza is feeling overwhelmed or stressed out by the weight of all the toppings on it, which is why it needs therapy. The joke combines the silliness of the idea of a pizza seeking therapy with a clever pun on the concept of \"toppings\" and \"pressure.\"'}, next=(), config={'configurable': {'thread_id': '1', 'checkpoint_ns': '', 'checkpoint_id': '1f06e622-163c-62bc-8002-f2ab9e7f9230'}}, metadata={'source': 'loop', 'step': 2, 'parents': {}, 'thread_id': '1'}, created_at='2025-07-31T23:00:19.452178+00:00', parent_config={'configurable': {'thread_id': '1', 'checkpoint_ns': '', 'checkpoint_id': '1f06e622-0a82-6b18-8001-952471b8db6e'}}, tasks=(), interrupts=()),\n",
       " StateSnapshot(values={'topic': 'pizza', 'joke': \"Why did the pizza go to the therapist? Because it had too many toppings and couldn't handle the pressure!\"}, next=('generate_explanation',), config={'configurable': {'thread_id': '1', 'checkpoint_ns': '', 'checkpoint_id': '1f06e622-0a82-6b18-8001-952471b8db6e'}}, metadata={'source': 'loop', 'step': 1, 'parents': {}, 'thread_id': '1'}, created_at='2025-07-31T23:00:18.222773+00:00', parent_config={'configurable': {'thread_id': '1', 'checkpoint_ns': '', 'checkpoint_id': '1f06e621-fa68-69c6-8000-e509a8742423'}}, tasks=(PregelTask(id='f05c753e-2a56-4aca-933f-9a166f77defd', name='generate_explanation', path=('__pregel_pull', 'generate_explanation'), error=None, interrupts=(), state=None, result={'explanation': 'This joke plays on the idea that a pizza going to therapy is a humorous and unlikely scenario. The punchline, \"Because it had too many toppings and couldn\\'t handle the pressure,\" is a play on words. It suggests that the pizza is feeling overwhelmed or stressed out by the weight of all the toppings on it, which is why it needs therapy. The joke combines the silliness of the idea of a pizza seeking therapy with a clever pun on the concept of \"toppings\" and \"pressure.\"'}),), interrupts=()),\n",
       " StateSnapshot(values={'topic': 'pizza'}, next=('generate_joke',), config={'configurable': {'thread_id': '1', 'checkpoint_ns': '', 'checkpoint_id': '1f06e621-fa68-69c6-8000-e509a8742423'}}, metadata={'source': 'loop', 'step': 0, 'parents': {}, 'thread_id': '1'}, created_at='2025-07-31T23:00:16.534368+00:00', parent_config={'configurable': {'thread_id': '1', 'checkpoint_ns': '', 'checkpoint_id': '1f06e621-fa63-6bac-bfff-e7ae8badbc7a'}}, tasks=(PregelTask(id='60203bdc-f46e-436a-47b2-40fc58d7abee', name='generate_joke', path=('__pregel_pull', 'generate_joke'), error=None, interrupts=(), state=None, result={'joke': \"Why did the pizza go to the therapist? Because it had too many toppings and couldn't handle the pressure!\"}),), interrupts=()),\n",
       " StateSnapshot(values={}, next=('__start__',), config={'configurable': {'thread_id': '1', 'checkpoint_ns': '', 'checkpoint_id': '1f06e621-fa63-6bac-bfff-e7ae8badbc7a'}}, metadata={'source': 'input', 'step': -1, 'parents': {}, 'thread_id': '1'}, created_at='2025-07-31T23:00:16.532369+00:00', parent_config=None, tasks=(PregelTask(id='0f0640fe-476e-3843-231c-f619be61ab35', name='__start__', path=('__pregel_pull', '__start__'), error=None, interrupts=(), state=None, result={'topic': 'pizza'}),), interrupts=())]"
      ]
     },
     "execution_count": 33,
     "metadata": {},
     "output_type": "execute_result"
    }
   ],
   "source": [
    "list(workflow.get_state_history(config1))"
   ]
  },
  {
   "cell_type": "code",
   "execution_count": 34,
   "id": "b6e9a728",
   "metadata": {},
   "outputs": [
    {
     "data": {
      "text/plain": [
       "{'topic': 'pasta',\n",
       " 'joke': 'Why did the pasta chef break up with his girlfriend? Because she was too saucy for him!',\n",
       " 'explanation': 'This joke plays on the double meaning of the word \"saucy.\" In cooking, \"saucy\" can refer to a dish that has a flavorful or spicy sauce. But in this joke, it is a play on words to suggest that the girlfriend had a sassy or flirtatious attitude, hence being \"too saucy\" for the pasta chef. The chef\\'s breaking up with her is a humorous and light-hearted way to explain that he could not handle her feistiness.'}"
      ]
     },
     "execution_count": 34,
     "metadata": {},
     "output_type": "execute_result"
    }
   ],
   "source": [
    "config2 = {\"configurable\": {\"thread_id\": \"2\"}}\n",
    "workflow.invoke({'topic':'pasta'}, config=config2)"
   ]
  },
  {
   "cell_type": "code",
   "execution_count": 35,
   "id": "35ef2a3e",
   "metadata": {},
   "outputs": [
    {
     "data": {
      "text/plain": [
       "StateSnapshot(values={'topic': 'pizza', 'joke': \"Why did the pizza go to the therapist? Because it had too many toppings and couldn't handle the pressure!\", 'explanation': 'This joke plays on the idea that a pizza going to therapy is a humorous and unlikely scenario. The punchline, \"Because it had too many toppings and couldn\\'t handle the pressure,\" is a play on words. It suggests that the pizza is feeling overwhelmed or stressed out by the weight of all the toppings on it, which is why it needs therapy. The joke combines the silliness of the idea of a pizza seeking therapy with a clever pun on the concept of \"toppings\" and \"pressure.\"'}, next=(), config={'configurable': {'thread_id': '1', 'checkpoint_ns': '', 'checkpoint_id': '1f06e622-163c-62bc-8002-f2ab9e7f9230'}}, metadata={'source': 'loop', 'step': 2, 'parents': {}, 'thread_id': '1'}, created_at='2025-07-31T23:00:19.452178+00:00', parent_config={'configurable': {'thread_id': '1', 'checkpoint_ns': '', 'checkpoint_id': '1f06e622-0a82-6b18-8001-952471b8db6e'}}, tasks=(), interrupts=())"
      ]
     },
     "execution_count": 35,
     "metadata": {},
     "output_type": "execute_result"
    }
   ],
   "source": [
    "workflow.get_state(config1)"
   ]
  },
  {
   "cell_type": "code",
   "execution_count": 36,
   "id": "2b713fa4",
   "metadata": {},
   "outputs": [
    {
     "data": {
      "text/plain": [
       "[StateSnapshot(values={'topic': 'pizza', 'joke': \"Why did the pizza go to the therapist? Because it had too many toppings and couldn't handle the pressure!\", 'explanation': 'This joke plays on the idea that a pizza going to therapy is a humorous and unlikely scenario. The punchline, \"Because it had too many toppings and couldn\\'t handle the pressure,\" is a play on words. It suggests that the pizza is feeling overwhelmed or stressed out by the weight of all the toppings on it, which is why it needs therapy. The joke combines the silliness of the idea of a pizza seeking therapy with a clever pun on the concept of \"toppings\" and \"pressure.\"'}, next=(), config={'configurable': {'thread_id': '1', 'checkpoint_ns': '', 'checkpoint_id': '1f06e622-163c-62bc-8002-f2ab9e7f9230'}}, metadata={'source': 'loop', 'step': 2, 'parents': {}, 'thread_id': '1'}, created_at='2025-07-31T23:00:19.452178+00:00', parent_config={'configurable': {'thread_id': '1', 'checkpoint_ns': '', 'checkpoint_id': '1f06e622-0a82-6b18-8001-952471b8db6e'}}, tasks=(), interrupts=()),\n",
       " StateSnapshot(values={'topic': 'pizza', 'joke': \"Why did the pizza go to the therapist? Because it had too many toppings and couldn't handle the pressure!\"}, next=('generate_explanation',), config={'configurable': {'thread_id': '1', 'checkpoint_ns': '', 'checkpoint_id': '1f06e622-0a82-6b18-8001-952471b8db6e'}}, metadata={'source': 'loop', 'step': 1, 'parents': {}, 'thread_id': '1'}, created_at='2025-07-31T23:00:18.222773+00:00', parent_config={'configurable': {'thread_id': '1', 'checkpoint_ns': '', 'checkpoint_id': '1f06e621-fa68-69c6-8000-e509a8742423'}}, tasks=(PregelTask(id='f05c753e-2a56-4aca-933f-9a166f77defd', name='generate_explanation', path=('__pregel_pull', 'generate_explanation'), error=None, interrupts=(), state=None, result={'explanation': 'This joke plays on the idea that a pizza going to therapy is a humorous and unlikely scenario. The punchline, \"Because it had too many toppings and couldn\\'t handle the pressure,\" is a play on words. It suggests that the pizza is feeling overwhelmed or stressed out by the weight of all the toppings on it, which is why it needs therapy. The joke combines the silliness of the idea of a pizza seeking therapy with a clever pun on the concept of \"toppings\" and \"pressure.\"'}),), interrupts=()),\n",
       " StateSnapshot(values={'topic': 'pizza'}, next=('generate_joke',), config={'configurable': {'thread_id': '1', 'checkpoint_ns': '', 'checkpoint_id': '1f06e621-fa68-69c6-8000-e509a8742423'}}, metadata={'source': 'loop', 'step': 0, 'parents': {}, 'thread_id': '1'}, created_at='2025-07-31T23:00:16.534368+00:00', parent_config={'configurable': {'thread_id': '1', 'checkpoint_ns': '', 'checkpoint_id': '1f06e621-fa63-6bac-bfff-e7ae8badbc7a'}}, tasks=(PregelTask(id='60203bdc-f46e-436a-47b2-40fc58d7abee', name='generate_joke', path=('__pregel_pull', 'generate_joke'), error=None, interrupts=(), state=None, result={'joke': \"Why did the pizza go to the therapist? Because it had too many toppings and couldn't handle the pressure!\"}),), interrupts=()),\n",
       " StateSnapshot(values={}, next=('__start__',), config={'configurable': {'thread_id': '1', 'checkpoint_ns': '', 'checkpoint_id': '1f06e621-fa63-6bac-bfff-e7ae8badbc7a'}}, metadata={'source': 'input', 'step': -1, 'parents': {}, 'thread_id': '1'}, created_at='2025-07-31T23:00:16.532369+00:00', parent_config=None, tasks=(PregelTask(id='0f0640fe-476e-3843-231c-f619be61ab35', name='__start__', path=('__pregel_pull', '__start__'), error=None, interrupts=(), state=None, result={'topic': 'pizza'}),), interrupts=())]"
      ]
     },
     "execution_count": 36,
     "metadata": {},
     "output_type": "execute_result"
    }
   ],
   "source": [
    "list(workflow.get_state_history(config1))"
   ]
  },
  {
   "cell_type": "markdown",
   "id": "453f3165",
   "metadata": {},
   "source": [
    "### Time Travel"
   ]
  },
  {
   "cell_type": "code",
   "execution_count": 37,
   "id": "9bd82bb1",
   "metadata": {},
   "outputs": [
    {
     "data": {
      "text/plain": [
       "StateSnapshot(values={'topic': 'pizza'}, next=('generate_joke',), config={'configurable': {'thread_id': '1', 'checkpoint_id': '1f06e621-fa68-69c6-8000-e509a8742423'}}, metadata={'source': 'loop', 'step': 0, 'parents': {}, 'thread_id': '1'}, created_at='2025-07-31T23:00:16.534368+00:00', parent_config={'configurable': {'thread_id': '1', 'checkpoint_ns': '', 'checkpoint_id': '1f06e621-fa63-6bac-bfff-e7ae8badbc7a'}}, tasks=(PregelTask(id='60203bdc-f46e-436a-47b2-40fc58d7abee', name='generate_joke', path=('__pregel_pull', 'generate_joke'), error=None, interrupts=(), state=None, result={'joke': \"Why did the pizza go to the therapist? Because it had too many toppings and couldn't handle the pressure!\"}),), interrupts=())"
      ]
     },
     "execution_count": 37,
     "metadata": {},
     "output_type": "execute_result"
    }
   ],
   "source": [
    "workflow.get_state({\"configurable\": {\"thread_id\": \"1\", \"checkpoint_id\": \"1f06e621-fa68-69c6-8000-e509a8742423\"}})"
   ]
  },
  {
   "cell_type": "code",
   "execution_count": 38,
   "id": "fd6492f6",
   "metadata": {},
   "outputs": [
    {
     "data": {
      "text/plain": [
       "{'topic': 'pizza',\n",
       " 'joke': 'Why did the pizza go to the doctor?\\n\\nBecause it was feeling a little crusty!',\n",
       " 'explanation': 'This joke plays on the double meaning of the word \"crusty\". In the context of a pizza, crusty refers to the texture of the pizza\\'s crust, which can become hard or crispy if left out for too long. However, crusty can also be used to describe someone who is irritable or grumpy. By saying the pizza went to the doctor because it was feeling \"crusty\", the joke cleverly combines both meanings for a punny punchline.'}"
      ]
     },
     "execution_count": 38,
     "metadata": {},
     "output_type": "execute_result"
    }
   ],
   "source": [
    "workflow.invoke(None, {\"configurable\": {\"thread_id\": \"1\", \"checkpoint_id\": \"1f06e621-fa68-69c6-8000-e509a8742423\"}})"
   ]
  },
  {
   "cell_type": "code",
   "execution_count": 39,
   "id": "63239cb4",
   "metadata": {},
   "outputs": [
    {
     "data": {
      "text/plain": [
       "[StateSnapshot(values={'topic': 'pizza', 'joke': 'Why did the pizza go to the doctor?\\n\\nBecause it was feeling a little crusty!', 'explanation': 'This joke plays on the double meaning of the word \"crusty\". In the context of a pizza, crusty refers to the texture of the pizza\\'s crust, which can become hard or crispy if left out for too long. However, crusty can also be used to describe someone who is irritable or grumpy. By saying the pizza went to the doctor because it was feeling \"crusty\", the joke cleverly combines both meanings for a punny punchline.'}, next=(), config={'configurable': {'thread_id': '1', 'checkpoint_ns': '', 'checkpoint_id': '1f06e74d-108e-6b91-8002-4d5ee98ac502'}}, metadata={'source': 'loop', 'step': 2, 'parents': {}, 'thread_id': '1'}, created_at='2025-08-01T01:14:05.076980+00:00', parent_config={'configurable': {'thread_id': '1', 'checkpoint_ns': '', 'checkpoint_id': '1f06e74c-fdad-6e82-8001-dcf1266a7410'}}, tasks=(), interrupts=()),\n",
       " StateSnapshot(values={'topic': 'pizza', 'joke': 'Why did the pizza go to the doctor?\\n\\nBecause it was feeling a little crusty!'}, next=('generate_explanation',), config={'configurable': {'thread_id': '1', 'checkpoint_ns': '', 'checkpoint_id': '1f06e74c-fdad-6e82-8001-dcf1266a7410'}}, metadata={'source': 'loop', 'step': 1, 'parents': {}, 'thread_id': '1'}, created_at='2025-08-01T01:14:03.097459+00:00', parent_config={'configurable': {'thread_id': '1', 'checkpoint_ns': '', 'checkpoint_id': '1f06e621-fa68-69c6-8000-e509a8742423'}}, tasks=(PregelTask(id='1240d302-8408-7e66-b82e-a3a02ad61b54', name='generate_explanation', path=('__pregel_pull', 'generate_explanation'), error=None, interrupts=(), state=None, result={'explanation': 'This joke plays on the double meaning of the word \"crusty\". In the context of a pizza, crusty refers to the texture of the pizza\\'s crust, which can become hard or crispy if left out for too long. However, crusty can also be used to describe someone who is irritable or grumpy. By saying the pizza went to the doctor because it was feeling \"crusty\", the joke cleverly combines both meanings for a punny punchline.'}),), interrupts=()),\n",
       " StateSnapshot(values={'topic': 'pizza', 'joke': \"Why did the pizza go to the therapist? Because it had too many toppings and couldn't handle the pressure!\", 'explanation': 'This joke plays on the idea that a pizza going to therapy is a humorous and unlikely scenario. The punchline, \"Because it had too many toppings and couldn\\'t handle the pressure,\" is a play on words. It suggests that the pizza is feeling overwhelmed or stressed out by the weight of all the toppings on it, which is why it needs therapy. The joke combines the silliness of the idea of a pizza seeking therapy with a clever pun on the concept of \"toppings\" and \"pressure.\"'}, next=(), config={'configurable': {'thread_id': '1', 'checkpoint_ns': '', 'checkpoint_id': '1f06e622-163c-62bc-8002-f2ab9e7f9230'}}, metadata={'source': 'loop', 'step': 2, 'parents': {}, 'thread_id': '1'}, created_at='2025-07-31T23:00:19.452178+00:00', parent_config={'configurable': {'thread_id': '1', 'checkpoint_ns': '', 'checkpoint_id': '1f06e622-0a82-6b18-8001-952471b8db6e'}}, tasks=(), interrupts=()),\n",
       " StateSnapshot(values={'topic': 'pizza', 'joke': \"Why did the pizza go to the therapist? Because it had too many toppings and couldn't handle the pressure!\"}, next=('generate_explanation',), config={'configurable': {'thread_id': '1', 'checkpoint_ns': '', 'checkpoint_id': '1f06e622-0a82-6b18-8001-952471b8db6e'}}, metadata={'source': 'loop', 'step': 1, 'parents': {}, 'thread_id': '1'}, created_at='2025-07-31T23:00:18.222773+00:00', parent_config={'configurable': {'thread_id': '1', 'checkpoint_ns': '', 'checkpoint_id': '1f06e621-fa68-69c6-8000-e509a8742423'}}, tasks=(PregelTask(id='f05c753e-2a56-4aca-933f-9a166f77defd', name='generate_explanation', path=('__pregel_pull', 'generate_explanation'), error=None, interrupts=(), state=None, result={'explanation': 'This joke plays on the idea that a pizza going to therapy is a humorous and unlikely scenario. The punchline, \"Because it had too many toppings and couldn\\'t handle the pressure,\" is a play on words. It suggests that the pizza is feeling overwhelmed or stressed out by the weight of all the toppings on it, which is why it needs therapy. The joke combines the silliness of the idea of a pizza seeking therapy with a clever pun on the concept of \"toppings\" and \"pressure.\"'}),), interrupts=()),\n",
       " StateSnapshot(values={'topic': 'pizza'}, next=('generate_joke',), config={'configurable': {'thread_id': '1', 'checkpoint_ns': '', 'checkpoint_id': '1f06e621-fa68-69c6-8000-e509a8742423'}}, metadata={'source': 'loop', 'step': 0, 'parents': {}, 'thread_id': '1'}, created_at='2025-07-31T23:00:16.534368+00:00', parent_config={'configurable': {'thread_id': '1', 'checkpoint_ns': '', 'checkpoint_id': '1f06e621-fa63-6bac-bfff-e7ae8badbc7a'}}, tasks=(PregelTask(id='60203bdc-f46e-436a-47b2-40fc58d7abee', name='generate_joke', path=('__pregel_pull', 'generate_joke'), error=None, interrupts=(), state=None, result={'joke': \"Why did the pizza go to the therapist? Because it had too many toppings and couldn't handle the pressure!\"}),), interrupts=()),\n",
       " StateSnapshot(values={}, next=('__start__',), config={'configurable': {'thread_id': '1', 'checkpoint_ns': '', 'checkpoint_id': '1f06e621-fa63-6bac-bfff-e7ae8badbc7a'}}, metadata={'source': 'input', 'step': -1, 'parents': {}, 'thread_id': '1'}, created_at='2025-07-31T23:00:16.532369+00:00', parent_config=None, tasks=(PregelTask(id='0f0640fe-476e-3843-231c-f619be61ab35', name='__start__', path=('__pregel_pull', '__start__'), error=None, interrupts=(), state=None, result={'topic': 'pizza'}),), interrupts=())]"
      ]
     },
     "execution_count": 39,
     "metadata": {},
     "output_type": "execute_result"
    }
   ],
   "source": [
    "list(workflow.get_state_history(config1))"
   ]
  },
  {
   "cell_type": "markdown",
   "id": "f433f5f9",
   "metadata": {},
   "source": [
    "### Updating State"
   ]
  },
  {
   "cell_type": "code",
   "execution_count": 40,
   "id": "c03f2c7d",
   "metadata": {},
   "outputs": [
    {
     "data": {
      "text/plain": [
       "{'configurable': {'thread_id': '1',\n",
       "  'checkpoint_ns': '',\n",
       "  'checkpoint_id': '1f06e757-9705-6e9f-8001-83efcc58bb21'}}"
      ]
     },
     "execution_count": 40,
     "metadata": {},
     "output_type": "execute_result"
    }
   ],
   "source": [
    "workflow.update_state({\"configurable\": {\"thread_id\": \"1\", \"checkpoint_id\": \"1f06e621-fa68-69c6-8000-e509a8742423\", \"checkpoint_ns\": \"\"}}, {'topic':'samosa'})"
   ]
  },
  {
   "cell_type": "code",
   "execution_count": 41,
   "id": "db9894eb",
   "metadata": {},
   "outputs": [
    {
     "data": {
      "text/plain": [
       "[StateSnapshot(values={'topic': 'samosa'}, next=('generate_joke',), config={'configurable': {'thread_id': '1', 'checkpoint_ns': '', 'checkpoint_id': '1f06e757-9705-6e9f-8001-83efcc58bb21'}}, metadata={'source': 'update', 'step': 1, 'parents': {}, 'thread_id': '1'}, created_at='2025-08-01T01:18:47.612175+00:00', parent_config={'configurable': {'thread_id': '1', 'checkpoint_ns': '', 'checkpoint_id': '1f06e621-fa68-69c6-8000-e509a8742423'}}, tasks=(PregelTask(id='1a3c786e-e905-248b-c7e6-0f6f2bd3196a', name='generate_joke', path=('__pregel_pull', 'generate_joke'), error=None, interrupts=(), state=None, result=None),), interrupts=()),\n",
       " StateSnapshot(values={'topic': 'pizza', 'joke': 'Why did the pizza go to the doctor?\\n\\nBecause it was feeling a little crusty!', 'explanation': 'This joke plays on the double meaning of the word \"crusty\". In the context of a pizza, crusty refers to the texture of the pizza\\'s crust, which can become hard or crispy if left out for too long. However, crusty can also be used to describe someone who is irritable or grumpy. By saying the pizza went to the doctor because it was feeling \"crusty\", the joke cleverly combines both meanings for a punny punchline.'}, next=(), config={'configurable': {'thread_id': '1', 'checkpoint_ns': '', 'checkpoint_id': '1f06e74d-108e-6b91-8002-4d5ee98ac502'}}, metadata={'source': 'loop', 'step': 2, 'parents': {}, 'thread_id': '1'}, created_at='2025-08-01T01:14:05.076980+00:00', parent_config={'configurable': {'thread_id': '1', 'checkpoint_ns': '', 'checkpoint_id': '1f06e74c-fdad-6e82-8001-dcf1266a7410'}}, tasks=(), interrupts=()),\n",
       " StateSnapshot(values={'topic': 'pizza', 'joke': 'Why did the pizza go to the doctor?\\n\\nBecause it was feeling a little crusty!'}, next=('generate_explanation',), config={'configurable': {'thread_id': '1', 'checkpoint_ns': '', 'checkpoint_id': '1f06e74c-fdad-6e82-8001-dcf1266a7410'}}, metadata={'source': 'loop', 'step': 1, 'parents': {}, 'thread_id': '1'}, created_at='2025-08-01T01:14:03.097459+00:00', parent_config={'configurable': {'thread_id': '1', 'checkpoint_ns': '', 'checkpoint_id': '1f06e621-fa68-69c6-8000-e509a8742423'}}, tasks=(PregelTask(id='1240d302-8408-7e66-b82e-a3a02ad61b54', name='generate_explanation', path=('__pregel_pull', 'generate_explanation'), error=None, interrupts=(), state=None, result={'explanation': 'This joke plays on the double meaning of the word \"crusty\". In the context of a pizza, crusty refers to the texture of the pizza\\'s crust, which can become hard or crispy if left out for too long. However, crusty can also be used to describe someone who is irritable or grumpy. By saying the pizza went to the doctor because it was feeling \"crusty\", the joke cleverly combines both meanings for a punny punchline.'}),), interrupts=()),\n",
       " StateSnapshot(values={'topic': 'pizza', 'joke': \"Why did the pizza go to the therapist? Because it had too many toppings and couldn't handle the pressure!\", 'explanation': 'This joke plays on the idea that a pizza going to therapy is a humorous and unlikely scenario. The punchline, \"Because it had too many toppings and couldn\\'t handle the pressure,\" is a play on words. It suggests that the pizza is feeling overwhelmed or stressed out by the weight of all the toppings on it, which is why it needs therapy. The joke combines the silliness of the idea of a pizza seeking therapy with a clever pun on the concept of \"toppings\" and \"pressure.\"'}, next=(), config={'configurable': {'thread_id': '1', 'checkpoint_ns': '', 'checkpoint_id': '1f06e622-163c-62bc-8002-f2ab9e7f9230'}}, metadata={'source': 'loop', 'step': 2, 'parents': {}, 'thread_id': '1'}, created_at='2025-07-31T23:00:19.452178+00:00', parent_config={'configurable': {'thread_id': '1', 'checkpoint_ns': '', 'checkpoint_id': '1f06e622-0a82-6b18-8001-952471b8db6e'}}, tasks=(), interrupts=()),\n",
       " StateSnapshot(values={'topic': 'pizza', 'joke': \"Why did the pizza go to the therapist? Because it had too many toppings and couldn't handle the pressure!\"}, next=('generate_explanation',), config={'configurable': {'thread_id': '1', 'checkpoint_ns': '', 'checkpoint_id': '1f06e622-0a82-6b18-8001-952471b8db6e'}}, metadata={'source': 'loop', 'step': 1, 'parents': {}, 'thread_id': '1'}, created_at='2025-07-31T23:00:18.222773+00:00', parent_config={'configurable': {'thread_id': '1', 'checkpoint_ns': '', 'checkpoint_id': '1f06e621-fa68-69c6-8000-e509a8742423'}}, tasks=(PregelTask(id='f05c753e-2a56-4aca-933f-9a166f77defd', name='generate_explanation', path=('__pregel_pull', 'generate_explanation'), error=None, interrupts=(), state=None, result={'explanation': 'This joke plays on the idea that a pizza going to therapy is a humorous and unlikely scenario. The punchline, \"Because it had too many toppings and couldn\\'t handle the pressure,\" is a play on words. It suggests that the pizza is feeling overwhelmed or stressed out by the weight of all the toppings on it, which is why it needs therapy. The joke combines the silliness of the idea of a pizza seeking therapy with a clever pun on the concept of \"toppings\" and \"pressure.\"'}),), interrupts=()),\n",
       " StateSnapshot(values={'topic': 'pizza'}, next=('generate_joke',), config={'configurable': {'thread_id': '1', 'checkpoint_ns': '', 'checkpoint_id': '1f06e621-fa68-69c6-8000-e509a8742423'}}, metadata={'source': 'loop', 'step': 0, 'parents': {}, 'thread_id': '1'}, created_at='2025-07-31T23:00:16.534368+00:00', parent_config={'configurable': {'thread_id': '1', 'checkpoint_ns': '', 'checkpoint_id': '1f06e621-fa63-6bac-bfff-e7ae8badbc7a'}}, tasks=(PregelTask(id='60203bdc-f46e-436a-47b2-40fc58d7abee', name='generate_joke', path=('__pregel_pull', 'generate_joke'), error=None, interrupts=(), state=None, result={'joke': \"Why did the pizza go to the therapist? Because it had too many toppings and couldn't handle the pressure!\"}),), interrupts=()),\n",
       " StateSnapshot(values={}, next=('__start__',), config={'configurable': {'thread_id': '1', 'checkpoint_ns': '', 'checkpoint_id': '1f06e621-fa63-6bac-bfff-e7ae8badbc7a'}}, metadata={'source': 'input', 'step': -1, 'parents': {}, 'thread_id': '1'}, created_at='2025-07-31T23:00:16.532369+00:00', parent_config=None, tasks=(PregelTask(id='0f0640fe-476e-3843-231c-f619be61ab35', name='__start__', path=('__pregel_pull', '__start__'), error=None, interrupts=(), state=None, result={'topic': 'pizza'}),), interrupts=())]"
      ]
     },
     "execution_count": 41,
     "metadata": {},
     "output_type": "execute_result"
    }
   ],
   "source": [
    "list(workflow.get_state_history(config1))"
   ]
  },
  {
   "cell_type": "code",
   "execution_count": 43,
   "id": "49a04ff7",
   "metadata": {},
   "outputs": [
    {
     "data": {
      "text/plain": [
       "{'topic': 'samosa',\n",
       " 'joke': 'Why did the samosa go to school?\\n\\nTo become a little more well-rounded!',\n",
       " 'explanation': 'This joke plays on the double meaning of the phrase \"well-rounded.\" In one sense, it can mean to be more knowledgeable or educated, which is why the samosa went to school. However, in a literal sense, a samosa is a typically triangular-shaped snack, so by going to school, it could potentially become more physically rounded in shape. The humor comes from the clever wordplay and the unexpected punchline.'}"
      ]
     },
     "execution_count": 43,
     "metadata": {},
     "output_type": "execute_result"
    }
   ],
   "source": [
    "workflow.invoke(None, {\"configurable\": {\"thread_id\": \"1\", \"checkpoint_id\": \"1f06e757-9705-6e9f-8001-83efcc58bb21\"}})"
   ]
  },
  {
   "cell_type": "code",
   "execution_count": null,
   "id": "78a45fd8",
   "metadata": {},
   "outputs": [],
   "source": []
  }
 ],
 "metadata": {
  "kernelspec": {
   "display_name": "myenv",
   "language": "python",
   "name": "python3"
  },
  "language_info": {
   "codemirror_mode": {
    "name": "ipython",
    "version": 3
   },
   "file_extension": ".py",
   "mimetype": "text/x-python",
   "name": "python",
   "nbconvert_exporter": "python",
   "pygments_lexer": "ipython3",
   "version": "3.12.4"
  }
 },
 "nbformat": 4,
 "nbformat_minor": 5
}
